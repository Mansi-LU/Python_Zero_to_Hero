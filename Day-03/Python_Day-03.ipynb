{
 "cells": [
  {
   "cell_type": "markdown",
   "metadata": {},
   "source": [
    "##  Question 1-   Sum of N numbers"
   ]
  },
  {
   "cell_type": "markdown",
   "metadata": {},
   "source": [
    "###### _Using For Loop_"
   ]
  },
  {
   "cell_type": "code",
   "execution_count": 27,
   "metadata": {},
   "outputs": [
    {
     "name": "stdout",
     "output_type": "stream",
     "text": [
      "Enter n: 5\n",
      "0 ----->>  0\n",
      "1 ----->>  1\n",
      "2 ----->>  3\n",
      "3 ----->>  6\n",
      "4 ----->>  10\n",
      "5 ----->>  15\n"
     ]
    }
   ],
   "source": [
    "number = int(input(\"Enter n: \"))\n",
    "sum_1= 0\n",
    "for x in range(0, number+1):\n",
    "    sum_1= sum_1 + x\n",
    "    print(x, \"----->> \", sum_1)\n",
    "\n",
    "    \n",
    "    \n",
    "    \n",
    " "
   ]
  },
  {
   "cell_type": "markdown",
   "metadata": {},
   "source": [
    "#### _Using While Loop_"
   ]
  },
  {
   "cell_type": "code",
   "execution_count": 26,
   "metadata": {},
   "outputs": [
    {
     "name": "stdout",
     "output_type": "stream",
     "text": [
      "Enter n: 5\n",
      "0 ----->>  0\n",
      "1 ----->>  1\n",
      "2 ----->>  3\n",
      "3 ----->>  6\n",
      "4 ----->>  10\n",
      "5 ----->>  15\n"
     ]
    }
   ],
   "source": [
    "\n",
    " \n",
    "number = int(input(\"Enter N: \"))\n",
    "sum_2 = 0\n",
    "i = 0\n",
    "\n",
    "while (i <= number):\n",
    "    sum_2 = sum_2 + i\n",
    "    print(i, \"----->> \", sum_2)\n",
    "    i = i + 1\n",
    "  "
   ]
  },
  {
   "cell_type": "markdown",
   "metadata": {},
   "source": [
    "## Question 2- Tell if numberis prime or not"
   ]
  },
  {
   "cell_type": "code",
   "execution_count": 26,
   "metadata": {},
   "outputs": [
    {
     "name": "stdout",
     "output_type": "stream",
     "text": [
      "Enter n: 5\n",
      "5 is prime\n"
     ]
    }
   ],
   "source": [
    "n = int(input(\"Enter n: \"))\n",
    "if n>1: \n",
    "    for i in range(2, n):\n",
    "        if (n%i== 0):\n",
    "            print( n, 'is not prime')\n",
    "            break\n",
    "    else:\n",
    "        print(n, \"is prime\")\n",
    "    \n",
    "else:\n",
    "    print(n, \"is not prime\")\n",
    "             \n"
   ]
  }
 ],
 "metadata": {
  "kernelspec": {
   "display_name": "Python 3",
   "language": "python",
   "name": "python3"
  },
  "language_info": {
   "codemirror_mode": {
    "name": "ipython",
    "version": 3
   },
   "file_extension": ".py",
   "mimetype": "text/x-python",
   "name": "python",
   "nbconvert_exporter": "python",
   "pygments_lexer": "ipython3",
   "version": "3.7.6"
  }
 },
 "nbformat": 4,
 "nbformat_minor": 4
}
